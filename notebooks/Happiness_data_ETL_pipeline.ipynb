{
 "cells": [
  {
   "cell_type": "markdown",
   "id": "f510d5cd-3437-4e33-9b85-d7204ec4101f",
   "metadata": {},
   "source": [
    "# This notebook creates a consolidated and curated 5-year world happiness data from year 2020 to 2024."
   ]
  },
  {
   "cell_type": "code",
   "execution_count": 2,
   "id": "4a093a9d-a1ca-46ca-9f95-a9575c0fa143",
   "metadata": {},
   "outputs": [
    {
     "name": "stdout",
     "output_type": "stream",
     "text": [
      "✅ Deleted cache for ajaypalsinghlo/world-happiness-report-2024\n",
      "✅ Deleted cache for ajaypalsinghlo/world-happiness-report-2023\n",
      "✅ Deleted cache for ajaypalsinghlo/world-happiness-report-2022\n",
      "✅ Deleted cache for ajaypalsinghlo/world-happiness-report-2021\n",
      "✅ Deleted cache for londeen/world-happiness-report-2020\n",
      "Downloading from https://www.kaggle.com/api/v1/datasets/download/ajaypalsinghlo/world-happiness-report-2024?dataset_version_number=1...\n"
     ]
    },
    {
     "name": "stderr",
     "output_type": "stream",
     "text": [
      "100%|██████████████████████████████████████| 4.69k/4.69k [00:00<00:00, 2.08MB/s]"
     ]
    },
    {
     "name": "stdout",
     "output_type": "stream",
     "text": [
      "Extracting files...\n"
     ]
    },
    {
     "name": "stderr",
     "output_type": "stream",
     "text": [
      "\n"
     ]
    },
    {
     "name": "stdout",
     "output_type": "stream",
     "text": [
      "Downloading from https://www.kaggle.com/api/v1/datasets/download/ajaypalsinghlo/world-happiness-report-2023?dataset_version_number=1...\n"
     ]
    },
    {
     "name": "stderr",
     "output_type": "stream",
     "text": [
      "100%|██████████████████████████████████████| 7.15k/7.15k [00:00<00:00, 3.15MB/s]"
     ]
    },
    {
     "name": "stdout",
     "output_type": "stream",
     "text": [
      "Extracting files...\n"
     ]
    },
    {
     "name": "stderr",
     "output_type": "stream",
     "text": [
      "\n"
     ]
    },
    {
     "name": "stdout",
     "output_type": "stream",
     "text": [
      "Downloading from https://www.kaggle.com/api/v1/datasets/download/ajaypalsinghlo/world-happiness-report-2022?dataset_version_number=1...\n"
     ]
    },
    {
     "name": "stderr",
     "output_type": "stream",
     "text": [
      "100%|██████████████████████████████████████| 5.20k/5.20k [00:00<00:00, 2.50MB/s]"
     ]
    },
    {
     "name": "stdout",
     "output_type": "stream",
     "text": [
      "Extracting files...\n"
     ]
    },
    {
     "name": "stderr",
     "output_type": "stream",
     "text": [
      "\n"
     ]
    },
    {
     "name": "stdout",
     "output_type": "stream",
     "text": [
      "Downloading from https://www.kaggle.com/api/v1/datasets/download/ajaypalsinghlo/world-happiness-report-2021?dataset_version_number=2...\n"
     ]
    },
    {
     "name": "stderr",
     "output_type": "stream",
     "text": [
      "100%|██████████████████████████████████████| 55.2k/55.2k [00:00<00:00, 3.95MB/s]"
     ]
    },
    {
     "name": "stdout",
     "output_type": "stream",
     "text": [
      "Extracting files...\n"
     ]
    },
    {
     "name": "stderr",
     "output_type": "stream",
     "text": [
      "\n"
     ]
    },
    {
     "name": "stdout",
     "output_type": "stream",
     "text": [
      "Downloading from https://www.kaggle.com/api/v1/datasets/download/londeen/world-happiness-report-2020?dataset_version_number=1...\n"
     ]
    },
    {
     "name": "stderr",
     "output_type": "stream",
     "text": [
      "100%|██████████████████████████████████████| 17.1k/17.1k [00:00<00:00, 6.24MB/s]"
     ]
    },
    {
     "name": "stdout",
     "output_type": "stream",
     "text": [
      "Extracting files...\n",
      "Files from 2024 have been renamed and moved.\n",
      "Files from 2023 have been renamed and moved.\n",
      "Files from 2022 have been renamed and moved.\n",
      "Files from 2021 have been renamed and moved.\n",
      "Files from 2020 have been renamed and moved.\n"
     ]
    },
    {
     "name": "stderr",
     "output_type": "stream",
     "text": [
      "\n"
     ]
    }
   ],
   "source": [
    "import pandas as pd\n",
    "import requests\n",
    "import os\n",
    "import shutil\n",
    "import kagglehub\n",
    "\n",
    "# ================================ #\n",
    "#           CONFIGURATION          #\n",
    "# ================================ #\n",
    "\n",
    "DOWNLOAD_PATH = \"../data/raw\"\n",
    "DATA_YEARS = range(2020, 2025)  # Years 2020-2024\n",
    "RAW_FILES = [os.path.join(DOWNLOAD_PATH, f\"raw_{year}.csv\") for year in DATA_YEARS]\n",
    "STAGING_FILES = [f\"../data/staging/stg_{year}.csv\" for year in DATA_YEARS]\n",
    "INTEGRATED_FILE = \"../data/processed/int_happiness_dataset.csv\"\n",
    "REPORTING_FILE = \"../data/processed/reporting_happiness_dataset.csv\"\n",
    "COUNTRY_TO_CONTINENT_FILE = \"country_to_continent.csv\"\n",
    "\n",
    "# ================================ #\n",
    "#           SOURCING DATA          #\n",
    "# ================================ #\n",
    "\n",
    "cache_base_path = os.path.expanduser(\"~/.cache/kagglehub/datasets\")\n",
    "\n",
    "# Define the dataset folders to delete\n",
    "datasets = [\n",
    "    \"ajaypalsinghlo/world-happiness-report-2024\",\n",
    "    \"ajaypalsinghlo/world-happiness-report-2023\",\n",
    "    \"ajaypalsinghlo/world-happiness-report-2022\",\n",
    "    \"ajaypalsinghlo/world-happiness-report-2021\",\n",
    "    \"londeen/world-happiness-report-2020\"\n",
    "]\n",
    "\n",
    "# Loop through the dataset folders and delete them\n",
    "for dataset_folder in datasets:\n",
    "    dataset_path = os.path.join(cache_base_path, dataset_folder)\n",
    "    if os.path.exists(dataset_path):\n",
    "        shutil.rmtree(dataset_path)  # Delete the entire folder and its contents\n",
    "        print(f\"✅ Deleted cache for {dataset_folder}\")\n",
    "    else:\n",
    "        print(f\"❌ Cache folder {dataset_folder} not found.\")\n",
    "\n",
    "years = [2024, 2023, 2022, 2021, 2020]\n",
    "\n",
    "paths = [\n",
    "    kagglehub.dataset_download(\"ajaypalsinghlo/world-happiness-report-2024\"),\n",
    "    kagglehub.dataset_download(\"ajaypalsinghlo/world-happiness-report-2023\"),\n",
    "    kagglehub.dataset_download(\"ajaypalsinghlo/world-happiness-report-2022\"),\n",
    "    kagglehub.dataset_download(\"ajaypalsinghlo/world-happiness-report-2021\"),\n",
    "    kagglehub.dataset_download(\"londeen/world-happiness-report-2020\")\n",
    "]\n",
    "\n",
    "file_year_pairs = list(zip(years, paths))\n",
    "for year, path in file_year_pairs:\n",
    "    if os.path.exists(path):\n",
    "        if not os.path.exists(DOWNLOAD_PATH):\n",
    "            os.makedirs(DOWNLOAD_PATH)\n",
    "        for file in os.listdir(path):\n",
    "            new_name = f\"raw_{year}.csv\"\n",
    "            shutil.move(os.path.join(path, file), os.path.join(DOWNLOAD_PATH, new_name))\n",
    "\n",
    "        print(f\"Files from {year} have been renamed and moved.\")\n",
    "    else:\n",
    "        print(f\"Dataset not found at {path}\")"
   ]
  },
  {
   "cell_type": "code",
   "execution_count": 11,
   "id": "fec9d77c-28c5-47b3-9ce9-b36440d7e622",
   "metadata": {},
   "outputs": [
    {
     "name": "stdout",
     "output_type": "stream",
     "text": [
      "✅ Processed: stg_2020.csv\n",
      "✅ Processed: stg_2021.csv\n",
      "✅ Processed: stg_2022.csv\n",
      "✅ Processed: stg_2023.csv\n",
      "✅ Processed: stg_2024.csv\n"
     ]
    }
   ],
   "source": [
    "# ================================ #\n",
    "#           STAGING DATA           #\n",
    "# ================================ #\n",
    "\n",
    "STAGING_PATH = '../data/staging'\n",
    "\n",
    "COLUMN_MAPPING = {\n",
    "    'Country name': 'Country',\n",
    "    'Regional indicator': 'Region',\n",
    "    'Ladder score': 'Happiness Score',\n",
    "    'Life Ladder': 'Happiness Score',\n",
    "    'Happiness score': 'Happiness Score',\n",
    "    'Log GDP per capita': 'GDP per Capita',\n",
    "    'Explained by: Log GDP per capita': 'GDP per Capita',  # 2024\n",
    "    'Explained by: GDP per capita': 'GDP per Capita',  # 2022\n",
    "    'Social support': 'Social Support',\n",
    "    'Explained by: Social support': 'Social Support',  # 2022, 2024\n",
    "    'Healthy life expectancy at birth': 'Healthy Life Expectancy',\n",
    "    'Healthy life expectancy': 'Healthy Life Expectancy',\n",
    "    'Explained by: Healthy life expectancy': 'Healthy Life Expectancy',\n",
    "    'Freedom to make life choices': 'Freedom to Make Life Choices',\n",
    "    'Explained by: Freedom to make life choices': 'Freedom to Make Life Choices',\n",
    "    'Generosity': 'Generosity',\n",
    "    'Explained by: Generosity': 'Generosity',\n",
    "    'Perceptions of corruption': 'Perceptions of Corruption',\n",
    "    'Explained by: Perceptions of corruption': 'Perceptions of Corruption',\n",
    "    'Year': 'Year'\n",
    "}\n",
    "\n",
    "REQUIRED_COLUMNS = [\n",
    "    'Year', 'Country', 'Happiness Score', 'GDP per Capita', \n",
    "    'Social Support', 'Healthy Life Expectancy', 'Freedom to Make Life Choices', \n",
    "    'Generosity', 'Perceptions of Corruption'\n",
    "]\n",
    "\n",
    "def clean_dataframe(df):\n",
    "    \"\"\"Remove spaces, trailing asterisks, and standardize column names.\"\"\"\n",
    "    df = df.rename(columns=COLUMN_MAPPING)\n",
    "    df = df[[col for col in REQUIRED_COLUMNS if col in df.columns]]\n",
    "    df = df.dropna() \n",
    "    # Strip leading/trailing spaces and trailing '*'\n",
    "    str_cols = df.select_dtypes(include=[\"object\"]).columns\n",
    "    df[str_cols] = df[str_cols].apply(lambda col: col.str.strip().str.rstrip('*'))\n",
    "    return df\n",
    "\n",
    "# Process each dataset\n",
    "for year, raw_file in zip(DATA_YEARS, RAW_FILES):\n",
    "    if os.path.exists(raw_file):\n",
    "        df = pd.read_csv(raw_file)\n",
    "        df = clean_dataframe(df)\n",
    "        df[\"Year\"] = year\n",
    "        if not os.path.exists(STAGING_PATH):\n",
    "            os.makedirs(STAGING_PATH)\n",
    "        df.to_csv(os.path.join(STAGING_PATH, f\"stg_{year}.csv\"), index=False)\n",
    "        print(f\"✅ Processed: stg_{year}.csv\")"
   ]
  },
  {
   "cell_type": "code",
   "execution_count": 12,
   "id": "9f87d08a-289c-461a-a844-237820f48ae8",
   "metadata": {},
   "outputs": [
    {
     "name": "stdout",
     "output_type": "stream",
     "text": [
      "✅ Integrated dataset saved as ../data/processed/int_happiness_dataset.csv\n",
      "✅ Reporting dataset saved as ../data/processed/reporting_happiness_dataset.csv\n"
     ]
    }
   ],
   "source": [
    "# ================================ #\n",
    "#         INTEGRATION STEP         #\n",
    "# ================================ #\n",
    "\n",
    "import country_converter as coco\n",
    "\n",
    "# Load all staging datasets\n",
    "dataframes = [pd.read_csv(file) for file in STAGING_FILES if os.path.exists(file)]\n",
    "merged_df = pd.concat(dataframes, ignore_index=True)\n",
    "\n",
    "cc = coco.CountryConverter()\n",
    "\n",
    "# Add a new column for Continent using the 'convert' method\n",
    "merged_df['Continent'] = merged_df['Country'].apply(lambda x: cc.convert(names=x, to='continent'))\n",
    "\n",
    "# Manual overrides for missing data\n",
    "manual_updates = {\n",
    "    \"Bosnia and Herzegovina\": {\"Region\": \"Southern Europe\", \"Continent\": \"Europe\"},\n",
    "    \"Congo (Brazzaville)\": {\"Region\": \"Sub-Saharan Africa\", \"Continent\": \"Africa\"},\n",
    "    \"Hong Kong S.A.R. of China\": {\"Region\": \"Eastern Asia\", \"Continent\": \"Asia\"},\n",
    "    \"Kosovo\": {\"Region\": \"Southern Europe\", \"Continent\": \"Europe\"},\n",
    "    \"North Cyprus\": {\"Region\": \"Western Asia\", \"Continent\": \"Asia\"},\n",
    "    \"North Macedonia\": {\"Region\": \"Southern Europe\", \"Continent\": \"Europe\"}\n",
    "}\n",
    "for country, values in manual_updates.items():\n",
    "    merged_df.loc[merged_df[\"Country\"] == country, [\"Region\", \"Continent\"]] = values[\"Region\"], values[\"Continent\"]\n",
    "\n",
    "merged_df = merged_df.drop(columns=['Region'], axis=1)\n",
    "\n",
    "# Save final integrated dataset\n",
    "PROCESSED_PATH = '../data/processed'\n",
    "if not os.path.exists(PROCESSED_PATH):\n",
    "    os.makedirs(PROCESSED_PATH)\n",
    "merged_df.to_csv(INTEGRATED_FILE, index=False)\n",
    "print(f\"✅ Integrated dataset saved as {INTEGRATED_FILE}\")\n",
    "\n",
    "# ================================ #\n",
    "#    ANALYSIS & REPORTING STEP     #\n",
    "# ================================ #\n",
    "\n",
    "# Calculate average regional Happiness Score and GDP per Capita\n",
    "continent_avg = merged_df.groupby(['Year', 'Continent'])[['Happiness Score', 'GDP per Capita', 'Social Support', \n",
    "                                                      'Healthy Life Expectancy', 'Freedom to Make Life Choices', \n",
    "                                                      'Generosity', 'Perceptions of Corruption']].mean().reset_index()\n",
    "\n",
    "# Rename columns to match requirements\n",
    "continent_avg.rename(columns={\n",
    "    'Happiness Score': 'Average Continent Happiness Score',\n",
    "    'GDP per Capita': 'Average Continent GDP per Capita',\n",
    "    'Social Support': 'Average Continent Social Support',\n",
    "    'Healthy Life Expectancy': 'Average Continent Healthy Life Expectancy', \n",
    "    'Freedom to Make Life Choices': 'Average Continent Freedom to Make Life Choices', \n",
    "    'Generosity': 'Average Continent Generosity', \n",
    "    'Perceptions of Corruption': 'Average Continent Perceptions of Corruption'\n",
    "}, inplace=True)\n",
    "\n",
    "# Merge the calculated averages back into the original dataset\n",
    "merged_df = merged_df.merge(continent_avg, on=['Year', 'Continent'], how='left')\n",
    "\n",
    "# Ensure correct column order\n",
    "merged_df = merged_df[['Year', 'Country', 'Continent', \n",
    "                       'Happiness Score', 'Average Continent Happiness Score',\n",
    "                       'GDP per Capita', 'Average Continent GDP per Capita',\n",
    "                       'Social Support', 'Average Continent Social Support',\n",
    "                       'Healthy Life Expectancy', 'Average Continent Healthy Life Expectancy',\n",
    "                       'Freedom to Make Life Choices', 'Average Continent Freedom to Make Life Choices', \n",
    "                       'Generosity', 'Average Continent Generosity',\n",
    "                       'Perceptions of Corruption', 'Average Continent Perceptions of Corruption']]\n",
    "\n",
    "# Save reporting dataset\n",
    "merged_df.to_csv(REPORTING_FILE, index=False)\n",
    "print(f\"✅ Reporting dataset saved as {REPORTING_FILE}\")"
   ]
  }
 ],
 "metadata": {
  "kernelspec": {
   "display_name": "World Happiness",
   "language": "python",
   "name": "world_happiness"
  },
  "language_info": {
   "codemirror_mode": {
    "name": "ipython",
    "version": 3
   },
   "file_extension": ".py",
   "mimetype": "text/x-python",
   "name": "python",
   "nbconvert_exporter": "python",
   "pygments_lexer": "ipython3",
   "version": "3.11.11"
  }
 },
 "nbformat": 4,
 "nbformat_minor": 5
}
